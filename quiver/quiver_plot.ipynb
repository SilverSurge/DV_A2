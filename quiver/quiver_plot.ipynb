{
 "cells": [
  {
   "cell_type": "code",
   "execution_count": 1,
   "metadata": {},
   "outputs": [],
   "source": [
    "import numpy as np\n",
    "import matplotlib.pyplot as plt\n",
    "import netCDF4 as nc\n",
    "from mpl_toolkits.basemap import Basemap\n",
    "from scipy.stats import norm\n",
    "import imageio\n",
    "import os"
   ]
  },
  {
   "cell_type": "markdown",
   "metadata": {},
   "source": [
    "#### The longitudes and latitudes variables will be same for each dataset file. So we can extract the latitudes and longitudes once and then create meshgrid using them. Then meshgrid,lats,lons can be used multiple times."
   ]
  },
  {
   "cell_type": "code",
   "execution_count": 2,
   "metadata": {},
   "outputs": [],
   "source": [
    "# Code to extract the latitudes and longitudes from a file\n",
    "dset = nc.Dataset(\"basic_dataset.nc\")\n",
    "\n",
    "longitudes = np.array(dset.variables[\"LONGITUDE\"][:].data)\n",
    "latitudes = np.array(dset.variables[\"LATITUDE\"][:].data)\n",
    "\n",
    "lons, lats = np.meshgrid(longitudes, latitudes)"
   ]
  },
  {
   "cell_type": "markdown",
   "metadata": {},
   "source": [
    "## Codes for preparing the data of a single pair of zonal and meridonal file for creation of quiver plot"
   ]
  },
  {
   "cell_type": "code",
   "execution_count": 3,
   "metadata": {},
   "outputs": [],
   "source": [
    "# Function to get the data and prepare it for creating plots\n",
    "def prepareData(file_path_zonal, file_path_meridonal):\n",
    "    \n",
    "    # Creating the datasets from the files\n",
    "    dset_zonal = nc.Dataset(file_path_zonal)\n",
    "    dset_meridonal = nc.Dataset(file_path_meridonal)\n",
    "\n",
    "    # Extracting the uSpeed and vSpeed as numpy arrays.\n",
    "    uSpeed = np.array(dset_zonal.variables[\"U\"][:].data)\n",
    "    vSpeed = np.array(dset_meridonal.variables[\"V\"][:].data)\n",
    "\n",
    "    #Converting from 3D to 2D\n",
    "    uSpeed = uSpeed[0] \n",
    "    vSpeed = vSpeed[0]\n",
    "\n",
    "    # setting the missing speed values as nan\n",
    "    vSpeed[vSpeed == -1e+34] = np.nan\n",
    "    uSpeed[uSpeed == -1e+34] = np.nan\n",
    "\n",
    "    return (uSpeed, vSpeed)\n"
   ]
  },
  {
   "cell_type": "markdown",
   "metadata": {},
   "source": [
    "### Code For creating a single quiver plots\n",
    "- The stride, length and whether vector sizes are same or not all these values are taken as parameters of the functions which can be tweaked."
   ]
  },
  {
   "cell_type": "code",
   "execution_count": 4,
   "metadata": {},
   "outputs": [],
   "source": [
    "# Function for creating quiver plots\n",
    "def wind_speed_quiver(file_path_zonal, file_path_meridonal, stride, sameSize, length, output_folder, imageName, lons=lons, lats=lats):\n",
    "\n",
    "    # Create the output folder if it doesn't exist\n",
    "    if not os.path.exists(output_folder):\n",
    "        os.makedirs(output_folder)\n",
    "\n",
    "    # get the u anv v speeds\n",
    "    u,v = prepareData(file_path_zonal, file_path_meridonal)\n",
    "\n",
    "    m = Basemap(projection='cyl', resolution='c', llcrnrlat=-90, urcrnrlat=90, llcrnrlon=0, urcrnrlon=360)\n",
    "    \n",
    "    # Create a figure and axis\n",
    "    fig = plt.figure(figsize=(120, 80))\n",
    "    ax1 = fig.add_subplot(1, 1, 1)\n",
    "\n",
    "    # Draw the coastlines and countries\n",
    "    m.drawcoastlines()\n",
    "    m.drawcountries()\n",
    "\n",
    "    # Fill continents with grey color\n",
    "    m.fillcontinents(color='lightgrey')\n",
    "\n",
    "    # Convert longitude and latitude to map coordinates\n",
    "    lons, lats = m(lons, lats)\n",
    "\n",
    "    # Create the quiver plot\n",
    "    u = u[::stride, ::stride].squeeze()\n",
    "    v = v[::stride, ::stride].squeeze()\n",
    "\n",
    "    if sameSize:\n",
    "        # Calculate the magnitude of the wind vector\n",
    "        magnitude = np.sqrt(u**2 + v**2)\n",
    "\n",
    "        # Normalize u and v\n",
    "        u = u / magnitude\n",
    "        v = v / magnitude\n",
    "\n",
    "        # Set a fixed length for all arrows\n",
    "        u = u * length\n",
    "        v = v * length\n",
    "\n",
    "    magnitude = np.sqrt(u**2 + v**2)\n",
    "\n",
    "    quiver = m.quiver(lons[::stride, ::stride], lats[::stride, ::stride], u, v,magnitude, width= 0.0009,scale = 500, color=\"blue\")\n",
    "\n",
    "    # Add labels and title\n",
    "    ax1.set_xlabel('Longitude')\n",
    "    ax1.set_ylabel('Latitude')\n",
    "    ax1.set_title('Wind Speed quiver plot with World Map')\n",
    "\n",
    "\n",
    "    # Save the plot as an image file\n",
    "    output_file = os.path.join(output_folder, f'quiver_plot_{imageName}.png')\n",
    "    plt.savefig(output_file)\n",
    "    plt.close()\n"
   ]
  },
  {
   "cell_type": "markdown",
   "metadata": {},
   "source": [
    "### Code for creating all the quiver images using the data files of various dates. Then using this data to create gif"
   ]
  },
  {
   "cell_type": "code",
   "execution_count": 5,
   "metadata": {},
   "outputs": [],
   "source": [
    "def createAllQuiverImages(folder_path_zonal, folder_path_meridonal, stride, sameSize, length, imagesFolderName):\n",
    "    \n",
    "    # Get the file names with and without the extension of .nc\n",
    "    file_names = sorted([file for file in os.listdir(folder_path_zonal) if file.endswith('.nc')])\n",
    "    file_names_without_extension = [file[:-3] for file in file_names]\n",
    "\n",
    "\n",
    "\n",
    "    # Create and store the images one by one by looping over all the file\n",
    "    for i, file_name in enumerate(file_names):\n",
    "        #construct the full path names\n",
    "        zonal_file_path = os.path.join(folder_path_zonal, file_name)\n",
    "        meridonal_file_path = os.path.join(folder_path_meridonal, file_name)\n",
    "\n",
    "        wind_speed_quiver(zonal_file_path, meridonal_file_path, stride= stride, sameSize = sameSize, length=length, output_folder = imagesFolderName, imageName=file_names_without_extension[i])\n",
    "    \n",
    "createAllQuiverImages(\"./november2013_data/zonal/\", \"./november2013_data/meridonal/\", 7, False, 5, \"quiver_images\")\n"
   ]
  },
  {
   "cell_type": "code",
   "execution_count": 6,
   "metadata": {},
   "outputs": [
    {
     "name": "stderr",
     "output_type": "stream",
     "text": [
      "<ipython-input-6-8b1d8fd07f66>:10: DeprecationWarning: Starting with ImageIO v3 the behavior of this function will switch to that of iio.v3.imread. To keep the current behavior (and make this warning disappear) use `import imageio.v2 as imageio` or call `imageio.v2.imread` directly.\n",
      "  images.append(imageio.imread(image_path))\n"
     ]
    },
    {
     "name": "stdout",
     "output_type": "stream",
     "text": [
      "GIF created successfully: quiver_animation.gif\n"
     ]
    }
   ],
   "source": [
    "# code for creating the gifs\n",
    "def create_gif(input_folder, output_file):\n",
    "    images = []\n",
    "\n",
    "    # Get the list of image files in the input folder\n",
    "    image_files = sorted([file for file in os.listdir(input_folder) if file.endswith('.png')])\n",
    "\n",
    "    for image_file in image_files:\n",
    "        image_path = os.path.join(input_folder, image_file)\n",
    "        images.append(imageio.imread(image_path))\n",
    "\n",
    "    # Save the images as a GIF\n",
    "    imageio.mimsave(output_file, images, duration=2.7)\n",
    "\n",
    "# Specify the input folder and output GIF file\n",
    "input_folder = 'quiver_images'\n",
    "output_gif = 'quiver_animation.gif'\n",
    "\n",
    "# Create the GIF\n",
    "create_gif(input_folder, output_gif)\n",
    "\n",
    "print(f'GIF created successfully: {output_gif}')\n"
   ]
  }
 ],
 "metadata": {
  "kernelspec": {
   "display_name": "Python 3",
   "language": "python",
   "name": "python3"
  },
  "language_info": {
   "codemirror_mode": {
    "name": "ipython",
    "version": 3
   },
   "file_extension": ".py",
   "mimetype": "text/x-python",
   "name": "python",
   "nbconvert_exporter": "python",
   "pygments_lexer": "ipython3",
   "version": "3.8.10"
  },
  "orig_nbformat": 4
 },
 "nbformat": 4,
 "nbformat_minor": 2
}
