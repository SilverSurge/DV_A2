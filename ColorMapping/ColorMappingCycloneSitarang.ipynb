{
 "cells": [
  {
   "cell_type": "markdown",
   "id": "510b6779",
   "metadata": {},
   "source": [
    "# 0. Imports"
   ]
  },
  {
   "cell_type": "code",
   "execution_count": 1,
   "id": "a55fefce",
   "metadata": {},
   "outputs": [],
   "source": [
    "import netCDF4 as nc \n",
    "import numpy as np\n",
    "import matplotlib.pyplot as plt\n",
    "from mpl_toolkits.basemap import Basemap\n",
    "from matplotlib.colors import LogNorm, BoundaryNorm, ListedColormap\n",
    "import os\n",
    "from PIL import Image"
   ]
  },
  {
   "cell_type": "markdown",
   "id": "e7af4d94",
   "metadata": {},
   "source": [
    "# 1. Getting the Dataset"
   ]
  },
  {
   "cell_type": "code",
   "execution_count": 2,
   "id": "f129e57a",
   "metadata": {},
   "outputs": [
    {
     "data": {
      "text/plain": [
       "<class 'netCDF4._netCDF4.Dataset'>\n",
       "root group (NETCDF3_CLASSIC data model, file format NETCDF3):\n",
       "    history: PyFerret V7.65 (optimized) 31-Oct-23\n",
       "    Conventions: CF-1.6\n",
       "    CDI: Climate Data Interface version 2.1.0 (https://mpimet.mpg.de/cdi)\n",
       "    source: RSS AMSR2 V8.2 AS-ECV Algorithms\n",
       "    institution: Remote Sensing Systems, Santa Rosa, CA, USA\n",
       "    summary: RSS climate quality air-sea products (SST, wind, vapor, cloud, rain), derived from JAXA microwave radiometer AMSR2 aboard JAXA GCOM-W1, produced by Remote Sensing Systems, gridded at .25 degree resolution in time averaged files, carefully intercallibrated with other microwave radiometers and scatterometers including WindSat, GMI, and ASCAT.\n",
       "    version: 8.2\n",
       "    processing_level: Level 3: monthly maps\n",
       "    date_created: 2021-05-12T05:17:36Z\n",
       "    sensor: AMSR2\n",
       "    platform: GCOM-W1\n",
       "    instrument: AMSR2 radiometer\n",
       "    project: Air-Sea Essential Climate Variables (AS-ECV) from Satellite Microwave Radiometers\n",
       "    keywords: sea surface temperature, wind speed, winds in rain, water vapor, cloud liquid water, rain rate, AMSR2, microwave, RSS\n",
       "    creator_name: Frank Wentz, Thomas Meissner, Lucrezia Ricciardulli, Andrew Manaster, Marty Brewer, Michael Densberger, Remote Sensing Systems\n",
       "    creator_email: support@remss.com\n",
       "    creator_url: http://www.remss.com\n",
       "    publisher_name: Remote Sensing Systems\n",
       "    publisher_email: support@remss.com\n",
       "    publisher_url: http://www.remss.com\n",
       "    dataset_citation_authors: Wentz, F., T. Meissner, L. Ricciardulli, A. Manaster, M. Brewer, M. Densberger\n",
       "    dataset_citation_year: 2021\n",
       "    dataset_citation_product: Remote Sensing Systems AMSR2 V8.2 Air-Sea Essential Climate Variables (AS-ECV) on 0.25 deg grid\n",
       "    dataset_citation_version: 8.2\n",
       "    dataset_citation_institution: Remote Sensing Systems, Santa Rosa, CA, USA\n",
       "    dataset_citation_url: http://www.remss.com/missions/amsr/\n",
       "    netCDF_version_id: 4\n",
       "    date_def: starting midnight UTC\n",
       "    time_coverage_start: 2012-07-02T00:00:00Z\n",
       "    time_coverage_end: 2012-07-31T23:59:59Z\n",
       "    time_coverage_duration: P1M\n",
       "    cdm_data_type: grid\n",
       "    geospatial_lat_min: 0.0\n",
       "    geospatial_lat_max: 0.0\n",
       "    geospatial_lat_resolution: 0.0\n",
       "    geospatial_lat_units: degrees_north\n",
       "    geospatial_lon_min: 0.0\n",
       "    geospatial_lon_max: 0.0\n",
       "    geospatial_lon_resolution: 0.0\n",
       "    geospatial_lon_units: degrees_east\n",
       "    references: Source_of_AMSR2_radiometer_observations: JAXA AMSR2 L1A via JAXA G-Portal.\n",
       "    averaging_procedure: observations averaged over specified time_coverage_duration\n",
       "    acknowledgement: AMSR2 AS-ECVs are produced by Remote Sensing Systems and sponsored by NASA. We are grateful to JAXA for AMSR2 source data.\n",
       "    CDO: Climate Data Operators version 2.1.0 (https://mpimet.mpg.de/cdo)\n",
       "    FERRET_comment: File written via LAS. Attributes are inherited from originating dataset, at\n",
       "    dimensions(sizes): lon(1440), lat(720), time(1)\n",
       "    variables(dimensions): float32 lon(lon), float32 lat(lat), float64 time(time), float32 wind_speed_AW(time, lat, lon)\n",
       "    groups: "
      ]
     },
     "execution_count": 2,
     "metadata": {},
     "output_type": "execute_result"
    }
   ],
   "source": [
    "# defining the path to file  \n",
    "filePath = '15july2012.nc'  \n",
    "  \n",
    "# using the Dataset() function  \n",
    "dSet = nc.Dataset(filePath) \n",
    "dSet"
   ]
  },
  {
   "cell_type": "code",
   "execution_count": 3,
   "id": "eb444fcf",
   "metadata": {},
   "outputs": [
    {
     "data": {
      "text/plain": [
       "{'lon': <class 'netCDF4._netCDF4.Dimension'>: name = 'lon', size = 1440,\n",
       " 'lat': <class 'netCDF4._netCDF4.Dimension'>: name = 'lat', size = 720,\n",
       " 'time': <class 'netCDF4._netCDF4.Dimension'> (unlimited): name = 'time', size = 1}"
      ]
     },
     "execution_count": 3,
     "metadata": {},
     "output_type": "execute_result"
    }
   ],
   "source": [
    "dSet.dimensions"
   ]
  },
  {
   "cell_type": "code",
   "execution_count": 4,
   "id": "3f917986",
   "metadata": {},
   "outputs": [
    {
     "data": {
      "text/plain": [
       "{'lon': <class 'netCDF4._netCDF4.Variable'>\n",
       " float32 lon(lon)\n",
       "     long_name: center longitude of grid cell\n",
       "     units: degrees_east\n",
       "     axis: X\n",
       "     modulo: 360.0\n",
       "     point_spacing: even\n",
       "     standard_name: longitude\n",
       " unlimited dimensions: \n",
       " current shape = (1440,)\n",
       " filling on, default _FillValue of 9.969209968386869e+36 used,\n",
       " 'lat': <class 'netCDF4._netCDF4.Variable'>\n",
       " float32 lat(lat)\n",
       "     long_name: center latitude of grid cell\n",
       "     units: degrees_north\n",
       "     axis: Y\n",
       "     point_spacing: even\n",
       "     standard_name: latitude\n",
       " unlimited dimensions: \n",
       " current shape = (720,)\n",
       " filling on, default _FillValue of 9.969209968386869e+36 used,\n",
       " 'time': <class 'netCDF4._netCDF4.Variable'>\n",
       " float64 time(time)\n",
       "     units: months since 2012-07-15 12:00\n",
       "     calendar: proleptic_gregorian\n",
       "     axis: T\n",
       "     standard_name: time\n",
       " unlimited dimensions: time\n",
       " current shape = (1,)\n",
       " filling on, default _FillValue of 9.969209968386869e+36 used,\n",
       " 'wind_speed_AW': <class 'netCDF4._netCDF4.Variable'>\n",
       " float32 wind_speed_AW(time, lat, lon)\n",
       "     missing_value: -999.0\n",
       "     _FillValue: -999.0\n",
       "     standard_name: wind_speed\n",
       "     long_name: AMSR2 All Weather (AW) wind speed\n",
       "     units: m s-1\n",
       "     comment: AMSR2 10m ocean surface all-weather wind speed using 6.93 and 10.65 GHz channels\n",
       "     resolution: spatial resolution of retrieval is approx. 46km\n",
       "     coverage_content_type: physicalMeasurement\n",
       "     history: From /home/las/datasets/amsr2/amsr2_mnt_global.nc\n",
       " unlimited dimensions: time\n",
       " current shape = (1, 720, 1440)\n",
       " filling on}"
      ]
     },
     "execution_count": 4,
     "metadata": {},
     "output_type": "execute_result"
    }
   ],
   "source": [
    "dSet.variables"
   ]
  },
  {
   "cell_type": "code",
   "execution_count": 5,
   "id": "840159cf",
   "metadata": {},
   "outputs": [
    {
     "name": "stdout",
     "output_type": "stream",
     "text": [
      "there are 518378 null values out of 1036800 which is about 49.99787808641975%\n"
     ]
    }
   ],
   "source": [
    "# the null values counts\n",
    "unique, counts = np.unique(dSet['wind_speed_AW'][:].mask, return_counts=True)\n",
    "# print(np.asarray((unique, counts)))\n",
    "print(f\"there are {counts[0]} null values out of {counts[0] + counts[1]} which is about {counts[0]/(counts[0]+counts[1])*100}%\")"
   ]
  },
  {
   "cell_type": "code",
   "execution_count": 6,
   "id": "5e69006f",
   "metadata": {},
   "outputs": [
    {
     "name": "stdout",
     "output_type": "stream",
     "text": [
      "[[     0      1]\n",
      " [518378 518422]]\n"
     ]
    }
   ],
   "source": [
    "print(np.asarray((unique, counts)))"
   ]
  },
  {
   "cell_type": "code",
   "execution_count": 7,
   "id": "06778924",
   "metadata": {},
   "outputs": [],
   "source": [
    "longitude = dSet[\"lon\"][:].data"
   ]
  },
  {
   "cell_type": "code",
   "execution_count": 8,
   "id": "caa751fb",
   "metadata": {},
   "outputs": [],
   "source": [
    "latitude = dSet[\"lat\"][:].data"
   ]
  },
  {
   "cell_type": "code",
   "execution_count": 9,
   "id": "4103507e",
   "metadata": {},
   "outputs": [
    {
     "data": {
      "text/plain": [
       "(720, 1440)"
      ]
     },
     "execution_count": 9,
     "metadata": {},
     "output_type": "execute_result"
    }
   ],
   "source": [
    "wind_speed_data = dSet['wind_speed_AW'][:].data.squeeze()\n",
    "wind_speed_data[wind_speed_data < 0] = np.nan\n",
    "wind_speed_data.shape"
   ]
  },
  {
   "cell_type": "markdown",
   "id": "69e3c3bb",
   "metadata": {},
   "source": [
    "# 2. Important Observations about the Data"
   ]
  },
  {
   "cell_type": "code",
   "execution_count": 10,
   "id": "d550b139",
   "metadata": {},
   "outputs": [
    {
     "data": {
      "text/plain": [
       "(['./dataset/1aug2022.nc',\n",
       "  './dataset/8aug2022.nc',\n",
       "  './dataset/15aug2022.nc',\n",
       "  './dataset/22aug2022.nc',\n",
       "  './dataset/29aug2022.nc',\n",
       "  './dataset/1sept2022.nc',\n",
       "  './dataset/8sept2022.nc',\n",
       "  './dataset/15sept2022.nc',\n",
       "  './dataset/22sept2022.nc',\n",
       "  './dataset/29sept2022.nc',\n",
       "  './dataset/1oct2022.nc',\n",
       "  './dataset/8oct2022.nc',\n",
       "  './dataset/15oct2022.nc',\n",
       "  './dataset/22oct2022.nc',\n",
       "  './dataset/29oct2022.nc'],\n",
       " ['1aug2022',\n",
       "  '8aug2022',\n",
       "  '15aug2022',\n",
       "  '22aug2022',\n",
       "  '29aug2022',\n",
       "  '1sept2022',\n",
       "  '8sept2022',\n",
       "  '15sept2022',\n",
       "  '22sept2022',\n",
       "  '29sept2022',\n",
       "  '1oct2022',\n",
       "  '8oct2022',\n",
       "  '15oct2022',\n",
       "  '22oct2022',\n",
       "  '29oct2022'])"
      ]
     },
     "execution_count": 10,
     "metadata": {},
     "output_type": "execute_result"
    }
   ],
   "source": [
    "# getting all the file names and dates\n",
    "dates = [1, 8, 15, 22, 29]\n",
    "months = [\"aug\", \"sept\", \"oct\"]\n",
    "complete_dates = []\n",
    "file_paths = []\n",
    "for month in months:\n",
    "    for date in dates:\n",
    "        temp = \"./dataset/\"+str(date)+month+\"2022.nc\"\n",
    "        file_paths.append(temp)\n",
    "        temp = str(date)+month+\"2022\"\n",
    "        complete_dates.append(temp)\n",
    "        \n",
    "file_paths, complete_dates"
   ]
  },
  {
   "cell_type": "code",
   "execution_count": 11,
   "id": "28adb34d",
   "metadata": {},
   "outputs": [
    {
     "name": "stdout",
     "output_type": "stream",
     "text": [
      "31.492453\n",
      "46.552002\n",
      "39.019833\n",
      "43.327\n",
      "28.754572\n",
      "28.744\n",
      "35.064\n",
      "60.535336\n",
      "27.753502\n",
      "29.120998\n",
      "35.314\n",
      "32.662003\n",
      "32.211945\n",
      "28.358177\n",
      "37.9715\n",
      "the percentage of values > 20 is 0.01194701646090535%\n",
      "the maximum value turned out to be 60.535335540771484\n"
     ]
    }
   ],
   "source": [
    "# distribution = np.array([10, 20.0])\n",
    "num = 20\n",
    "total = 0\n",
    "count = 0\n",
    "maxx = 0\n",
    "for file_path in file_paths:\n",
    "    dSet = nc.Dataset(file_path)\n",
    "    wind_speed_data = dSet['wind_speed_AW'][:].data.squeeze()\n",
    "    print(np.max(wind_speed_data))\n",
    "    maxx = max(maxx, np.max(wind_speed_data).item())\n",
    "    wind_speed_data[wind_speed_data < 0] = np.nan\n",
    "    temp = wind_speed_data[wind_speed_data>num].reshape(-1).shape[0]\n",
    "    count+=temp\n",
    "    total += wind_speed_data.reshape(-1).shape[0] \n",
    "\n",
    "print(f\"the percentage of values > {num} is {count/total * 100}%\")\n",
    "print(f\"the maximum value turned out to be {maxx}\")"
   ]
  },
  {
   "cell_type": "markdown",
   "id": "f8d7905b",
   "metadata": {},
   "source": [
    "### NOTE:\n",
    "from the above piece of code it is clear that our values are not greater than 20 for most of the times but the maximum value found was about 60 which will lead to the values in range(0-20) not being distinguished to their fullest."
   ]
  },
  {
   "cell_type": "markdown",
   "id": "778728d2",
   "metadata": {},
   "source": [
    "# 3. Cyclone Sitarang"
   ]
  },
  {
   "cell_type": "code",
   "execution_count": 12,
   "id": "b4fd631f",
   "metadata": {},
   "outputs": [],
   "source": [
    "def color_mapping(file_path, colormap, colormap_type, date):\n",
    "    \"\"\"\n",
    "    Args:\n",
    "        file_path -- path to .nc file\n",
    "        colormap -- cmap like viridis\n",
    "        colormap_type -- lin, log, dis\n",
    "        date -- date of the dataset\n",
    "    Returns:\n",
    "         -- nothing --\n",
    "    \"\"\"\n",
    "    dSet = nc.Dataset(file_path)\n",
    "    \n",
    "    longitude = dSet[\"lon\"][:].data\n",
    "    latitude = dSet[\"lat\"][:].data\n",
    "    wind_speed_data = dSet['wind_speed_AW'][:].data.squeeze()\n",
    "    wind_speed_data[wind_speed_data < 0] = np.nan\n",
    "    \n",
    "    if colormap_type == \"lin\":\n",
    "       # Create a b instance for the world map\n",
    "        m = Basemap(projection='cyl', resolution='c', llcrnrlat=-90, urcrnrlat=90, llcrnrlon=0, urcrnrlon=360)\n",
    "\n",
    "        # Create a figure and axis\n",
    "        fig = plt.figure(figsize=(12*5, 8*5))\n",
    "        ax = fig.add_subplot(1, 1, 1)\n",
    "\n",
    "        # Draw the coastlines and countries\n",
    "        m.drawcoastlines()\n",
    "        m.drawcountries()\n",
    "\n",
    "\n",
    "        # Convert longitude and latitude to map coordinates\n",
    "        x, y = np.meshgrid(longitude, latitude)\n",
    "        x, y = m(x, y)\n",
    "\n",
    "        # Create the color plot (heatmap)\n",
    "        cax = ax.pcolormesh(x, y, wind_speed_data, cmap=colormap, shading='auto', vmin=0, vmax=20)\n",
    "\n",
    "        # Add a colorbar\n",
    "        cbar = fig.colorbar(cax)\n",
    "        cbar.ax.tick_params(labelsize=32)\n",
    "        cbar.set_label('Wind Speed (m/s)', fontsize=48)\n",
    "\n",
    "        # Add labels and title\n",
    "        ax.set_xlabel('Longitude', fontsize=32)\n",
    "        ax.set_ylabel('Latitude', fontsize=32)\n",
    "        ax.set_title(f'Wind Speed Colormap on {date} : linear cmap', fontsize=32)\n",
    "\n",
    "        save_dir = f\"./cyclone_sitarang/\" \n",
    "        if not os.path.exists(save_dir):\n",
    "            os.makedirs(save_dir)\n",
    "        \n",
    "        temp = colormap+\"_\"+colormap_type+\"_\"+date+'.png'\n",
    "        save_path = file_path = os.path.join(save_dir, temp)\n",
    "        plt.savefig(save_path)\n",
    "        plt.close(fig)\n",
    "        \n",
    "    elif colormap_type == 'log':\n",
    "        # Create a Basemap instance for the world map\n",
    "        m = Basemap(projection='cyl', resolution='c', llcrnrlat=-90, urcrnrlat=90, llcrnrlon=0, urcrnrlon=360)\n",
    "\n",
    "        # Create a figure and axis\n",
    "        fig = plt.figure(figsize=(12*5, 8*5))\n",
    "        ax = fig.add_subplot(1, 1, 1)\n",
    "\n",
    "        # Draw the coastlines and countries\n",
    "        m.drawcoastlines()\n",
    "        m.drawcountries()\n",
    "\n",
    "        # Convert longitude and latitude to map coordinates\n",
    "        x, y = np.meshgrid(longitude, latitude)\n",
    "        x, y = m(x, y)\n",
    "\n",
    "        # Create the color plot (heatmap) with logarithmic colormap\n",
    "        cax = ax.pcolormesh(x, y, wind_speed_data, cmap=colormap, norm=LogNorm(vmin=0.0000001, vmax=20), shading='auto')\n",
    "\n",
    "        # Add a colorbar\n",
    "        cbar = fig.colorbar(cax)\n",
    "        cbar.set_label('Wind Speed (m/s)', fontsize=48)\n",
    "        cbar.ax.tick_params(labelsize=32)\n",
    "\n",
    "        # Add labels and title\n",
    "        ax.set_xlabel('Longitude', fontsize=32)\n",
    "        ax.set_ylabel('Latitude', fontsize=32)\n",
    "        ax.set_title(f'Wind Speed Colormap on {date} : logarithmic cmap', fontsize=32)\n",
    "\n",
    "        save_dir = f\"./cyclone_sitarang/\" \n",
    "        if not os.path.exists(save_dir):\n",
    "            os.makedirs(save_dir)\n",
    "        \n",
    "        temp = colormap+\"_\"+colormap_type+\"_\"+date+'.png'\n",
    "        save_path = file_path = os.path.join(save_dir, temp)\n",
    "        plt.savefig(save_path)\n",
    "        plt.close(fig)\n",
    "    \n",
    "    elif colormap_type == \"dis\":\n",
    "        \n",
    "       # Number of discrete levels in the colormap\n",
    "        num_levels = 10\n",
    "\n",
    "        # Define custom boundaries for discrete levels\n",
    "        boundaries = np.linspace(0, 20, num_levels + 1)\n",
    "\n",
    "        # Create a Basemap instance for the world map\n",
    "        m = Basemap(projection='cyl', resolution='c', llcrnrlat=-90, urcrnrlat=90, llcrnrlon=0, urcrnrlon=360)\n",
    "\n",
    "        # Create a figure and axis\n",
    "        fig = plt.figure(figsize=(12*5, 8*5))\n",
    "        ax = fig.add_subplot(1, 1, 1)\n",
    "\n",
    "        # Draw the coastlines and countries\n",
    "        m.drawcoastlines()\n",
    "        m.drawcountries()\n",
    "\n",
    "        # Convert longitude and latitude to map coordinates\n",
    "        x, y = np.meshgrid(longitude, latitude)\n",
    "        x, y = m(x, y)\n",
    "\n",
    "        # Create a ListedColormap with the desired number of colors\n",
    "        cmap = plt.get_cmap(colormap, num_levels)\n",
    "\n",
    "        # Create the color plot (heatmap) with discrete levels in the colormap\n",
    "        norm = BoundaryNorm(boundaries, cmap.N, clip=True)\n",
    "        cax = ax.pcolormesh(x, y, wind_speed_data, cmap=cmap, shading='auto', norm=norm)\n",
    "\n",
    "        # Add a colorbar\n",
    "        cbar = fig.colorbar(cax)\n",
    "        cbar.set_label('Wind Speed (m/s)', fontsize=48)\n",
    "        cbar.ax.tick_params(labelsize=32)\n",
    "\n",
    "\n",
    "        # Add labels and title\n",
    "        ax.set_xlabel('Longitude', fontsize=32)\n",
    "        ax.set_ylabel('Latitude', fontsize=32)\n",
    "        ax.set_title(f'Wind Speed Colormap on {date} : discrete cmap , {num_levels} levels)', fontsize=32)\n",
    "\n",
    "        # Show the plot\n",
    "        save_dir = f\"./cyclone_sitarang/\" \n",
    "        if not os.path.exists(save_dir):\n",
    "            os.makedirs(save_dir)\n",
    "        \n",
    "        temp = colormap+\"_\"+colormap_type+\"_\"+date+'.png'\n",
    "        save_path = file_path = os.path.join(save_dir, temp)\n",
    "        plt.savefig(save_path)\n",
    "        plt.close(fig)\n",
    "    else:\n",
    "        print(\"colormap_type should be in [\\\"lin\\\", \\\"log\\\", \\\"dis\\\"]\")\n",
    "        \n",
    "    print(file_path, colormap, colormap_type)"
   ]
  },
  {
   "cell_type": "code",
   "execution_count": null,
   "id": "ca3edbd6",
   "metadata": {},
   "outputs": [
    {
     "name": "stdout",
     "output_type": "stream",
     "text": [
      "./cyclone_sitarang/twilight_lin_19oct2022.png twilight lin\n"
     ]
    }
   ],
   "source": [
    "color_mapping(\"./dataset/cyclone_sitarang/19oct2022.nc\", \"twilight\", \"lin\", \"19oct2022\")\n",
    "color_mapping(\"./dataset/cyclone_sitarang/23oct2022.nc\", \"twilight\", \"lin\", \"23oct2022\")\n",
    "color_mapping(\"./dataset/cyclone_sitarang/28oct2022.nc\", \"twilight\", \"lin\", \"28oct2022\")"
   ]
  },
  {
   "cell_type": "code",
   "execution_count": null,
   "id": "93818b61",
   "metadata": {},
   "outputs": [],
   "source": [
    "color_mapping(\"./cyclone sitarang/19oct2022.nc\", \"viridis\", \"lin\", \"19oct2022\")\n",
    "color_mapping(\"./cyclone sitarang/23oct2022.nc\", \"viridis\", \"lin\", \"23oct2022\")\n",
    "color_mapping(\"./cyclone sitarang/28oct2022.nc\", \"viridis\", \"lin\", \"28oct2022\")"
   ]
  }
 ],
 "metadata": {
  "kernelspec": {
   "display_name": "Python 3 (ipykernel)",
   "language": "python",
   "name": "python3"
  },
  "language_info": {
   "codemirror_mode": {
    "name": "ipython",
    "version": 3
   },
   "file_extension": ".py",
   "mimetype": "text/x-python",
   "name": "python",
   "nbconvert_exporter": "python",
   "pygments_lexer": "ipython3",
   "version": "3.11.3"
  }
 },
 "nbformat": 4,
 "nbformat_minor": 5
}
