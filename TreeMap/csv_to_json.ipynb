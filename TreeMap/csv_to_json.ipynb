{
 "cells": [
  {
   "cell_type": "code",
   "execution_count": 15,
   "metadata": {},
   "outputs": [],
   "source": [
    "import pandas as pd\n",
    "import json\n",
    "# Read the CSV file\n",
    "df = pd.read_csv('gdp_countries.csv')\n",
    "df['GDP_Nominal'] = df['GDP_Nominal'].replace('[\\$,]', '', regex=True).astype(int)\n",
    "df['GDP_PerCapita'] = df['GDP_PerCapita'].replace('[\\$,]', '', regex=True).astype(int)\n",
    "df['GDP_growth'] = df['GDP_growth'].replace('%', '', regex=True).astype(float)\n",
    "\n",
    "min_growth = df['GDP_growth'].min()\n",
    "max_growth = df['GDP_growth'].max()\n",
    "df['GDP_growth_normalized'] = (df['GDP_growth'] - min_growth) / (max_growth - min_growth)\n",
    "\n",
    "# Group data by Continent and format it for the treemap\n",
    "data_for_treemap = []\n",
    "for continent, group in df.groupby('Continent'):\n",
    "    continent_data = {\n",
    "        'name': continent,\n",
    "        'children': []\n",
    "    }\n",
    "    for index, row in group.iterrows():\n",
    "        country_data = {\n",
    "            'name': row['Country'],\n",
    "            'GDP_size': row['GDP_Nominal'],\n",
    "            'Population_color': row['Population'],\n",
    "            'GDP_Growth': row['GDP_growth_normalized'],\n",
    "            'GDP_PerCapita': row['GDP_PerCapita']\n",
    "        }\n",
    "        continent_data['children'].append(country_data)\n",
    "    data_for_treemap.append(continent_data)\n",
    "\n",
    "# Create a dictionary to represent the final structure\n",
    "treemap_data = {\n",
    "    'name': 'World',\n",
    "    'children': data_for_treemap\n",
    "}\n",
    "\n",
    "# Export the data to a JSON file\n",
    "with open('treemap_data.json', 'w') as json_file:\n",
    "    json.dump(treemap_data, json_file, indent=2)\n"
   ]
  },
  {
   "cell_type": "code",
   "execution_count": 17,
   "metadata": {},
   "outputs": [
    {
     "name": "stdout",
     "output_type": "stream",
     "text": [
      "1.0\n"
     ]
    }
   ],
   "source": [
    "print(df['GDP_growth_normalized'].max())"
   ]
  }
 ],
 "metadata": {
  "kernelspec": {
   "display_name": "Python 3",
   "language": "python",
   "name": "python3"
  },
  "language_info": {
   "codemirror_mode": {
    "name": "ipython",
    "version": 3
   },
   "file_extension": ".py",
   "mimetype": "text/x-python",
   "name": "python",
   "nbconvert_exporter": "python",
   "pygments_lexer": "ipython3",
   "version": "3.8.10"
  }
 },
 "nbformat": 4,
 "nbformat_minor": 2
}
